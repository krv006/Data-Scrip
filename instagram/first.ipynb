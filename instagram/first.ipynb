{
 "cells": [
  {
   "cell_type": "code",
   "id": "initial_id",
   "metadata": {
    "collapsed": true,
    "jupyter": {
     "is_executing": true
    }
   },
   "source": [
    "import instaloader\n",
    "import os\n",
    "import time\n",
    "\n",
    "# Rasmlarni saqlash uchun papka yaratamiz\n",
    "save_path = \"instagram_images\"\n",
    "os.makedirs(save_path, exist_ok=True)\n",
    "\n",
    "# Instaloader ob'ektini yaratamiz\n",
    "L = instaloader.Instaloader(\n",
    "    download_pictures=True,  # Rasmlarni yuklash\n",
    "    download_videos=False,   # Videolarni yuklamaslik (agar kerak bo‘lsa True qiling)\n",
    "    download_comments=False, # Kommentlarni yuklamaslik (kerak bo‘lsa True qiling)\n",
    "    save_metadata=False      # Metama'lumotlarni saqlamaslik\n",
    ")\n",
    "\n",
    "# Profilni yuklash\n",
    "username = \"digital_uz_\"  # Do‘stingizning username-ni shu yerga yozing\n",
    "try:\n",
    "    profile = instaloader.Profile.from_username(L.context, username)\n",
    "    print(f\"✅ Profil topildi: {profile.username}\")\n",
    "    print(f\"Postlar soni: {profile.mediacount}\")\n",
    "    print(f\"Obunachilar: {profile.followers}\")\n",
    "    print(f\"Obunalar: {profile.followees}\")\n",
    "except Exception as e:\n",
    "    print(f\"❌ Profilni yuklashda xatolik: {e}\")\n",
    "    exit()\n",
    "\n",
    "# Postlarni yuklash\n",
    "print(\"⏳ Postlarni yuklash boshlandi...\")\n",
    "image_count = 0\n",
    "\n",
    "for post in profile.get_posts():\n",
    "    try:\n",
    "        # Postni yuklash\n",
    "        L.download_post(post, target=save_path)\n",
    "        image_count += 1\n",
    "        print(f\"✅ {image_count}-post yuklandi: {post.shortcode}\")\n",
    "\n",
    "        # Instagram bloklashdan saqlanish uchun pauza\n",
    "        time.sleep(2)  # Har bir postdan keyin 2 soniya kutish\n",
    "    except Exception as e:\n",
    "        print(f\"❌ {post.shortcode} postida xatolik: {e}\")\n",
    "        continue\n",
    "\n",
    "print(f\"🎉 Yuklash tugadi! Jami {image_count} ta post saqlandi.\")"
   ],
   "outputs": [],
   "execution_count": null
  }
 ],
 "metadata": {
  "kernelspec": {
   "display_name": "Python 3",
   "language": "python",
   "name": "python3"
  },
  "language_info": {
   "codemirror_mode": {
    "name": "ipython",
    "version": 2
   },
   "file_extension": ".py",
   "mimetype": "text/x-python",
   "name": "python",
   "nbconvert_exporter": "python",
   "pygments_lexer": "ipython2",
   "version": "2.7.6"
  }
 },
 "nbformat": 4,
 "nbformat_minor": 5
}
